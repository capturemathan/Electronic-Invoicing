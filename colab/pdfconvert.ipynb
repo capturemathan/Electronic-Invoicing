{
 "cells": [
  {
   "cell_type": "code",
   "execution_count": null,
   "metadata": {
    "colab": {
     "base_uri": "https://localhost:8080/",
     "height": 440
    },
    "colab_type": "code",
    "id": "JE9m0KbuOsSG",
    "outputId": "b0890a7f-dce0-44c7-f24d-85f546c800e5"
   },
   "outputs": [
    {
     "name": "stdout",
     "output_type": "stream",
     "text": [
      "Reading package lists... Done\n",
      "Building dependency tree       \n",
      "Reading state information... Done\n",
      "The following package was automatically installed and is no longer required:\n",
      "  libnvidia-common-440\n",
      "Use 'apt autoremove' to remove it.\n",
      "The following NEW packages will be installed:\n",
      "  poppler-utils\n",
      "0 upgraded, 1 newly installed, 0 to remove and 35 not upgraded.\n",
      "Need to get 154 kB of archives.\n",
      "After this operation, 613 kB of additional disk space will be used.\n",
      "Get:1 http://archive.ubuntu.com/ubuntu bionic-updates/main amd64 poppler-utils amd64 0.62.0-2ubuntu2.10 [154 kB]\n",
      "Fetched 154 kB in 1s (201 kB/s)\n",
      "Selecting previously unselected package poppler-utils.\n",
      "(Reading database ... 144487 files and directories currently installed.)\n",
      "Preparing to unpack .../poppler-utils_0.62.0-2ubuntu2.10_amd64.deb ...\n",
      "Unpacking poppler-utils (0.62.0-2ubuntu2.10) ...\n",
      "Setting up poppler-utils (0.62.0-2ubuntu2.10) ...\n",
      "Processing triggers for man-db (2.8.3-2ubuntu0.1) ...\n",
      "Collecting pdf2image\n",
      "  Downloading https://files.pythonhosted.org/packages/c6/62/bf2df0547cf4e216b329a9d39a7aa6c755f02071e63e17a4b76690ebfe20/pdf2image-1.13.1-py3-none-any.whl\n",
      "Requirement already satisfied: pillow in /usr/local/lib/python3.6/dist-packages (from pdf2image) (7.0.0)\n",
      "Installing collected packages: pdf2image\n",
      "Successfully installed pdf2image-1.13.1\n"
     ]
    }
   ],
   "source": [
    "!apt-get install poppler-utils \n",
    "!pip install pdf2image"
   ]
  },
  {
   "cell_type": "code",
   "execution_count": null,
   "metadata": {
    "colab": {},
    "colab_type": "code",
    "id": "R0x6jopBOO0T"
   },
   "outputs": [],
   "source": [
    "from pdf2image import convert_from_path"
   ]
  },
  {
   "cell_type": "code",
   "execution_count": null,
   "metadata": {
    "colab": {},
    "colab_type": "code",
    "id": "HKvpBa10O7CY"
   },
   "outputs": [],
   "source": [
    "def convert2pdf(pdfpath,imgpath):\n",
    "  \"\"\"\n",
    "  The function to convert from pdf to image page by page \n",
    "  Parameters: \n",
    "            imgpath(String): The path of pdf to be converted.\n",
    "  \"\"\"\n",
    "  pages = convert_from_path(pdfpath, 350)\n",
    "  i = 1\n",
    "  for page in pages:\n",
    "    image_name = imgpath + str(i) + \".jpg\"\n",
    "    page.save(image_name, \"JPEG\")\n",
    "    i = i+1\n",
    "    \n",
    "#convert2pdf(\"Sample_Invoice_1.pdf\",\"output/dataset1/\")"
   ]
  }
 ],
 "metadata": {
  "colab": {
   "collapsed_sections": [],
   "name": "pdfconvert.ipynb",
   "provenance": []
  },
  "kernelspec": {
   "display_name": "Python 3",
   "language": "python",
   "name": "python3"
  },
  "language_info": {
   "codemirror_mode": {
    "name": "ipython",
    "version": 3
   },
   "file_extension": ".py",
   "mimetype": "text/x-python",
   "name": "python",
   "nbconvert_exporter": "python",
   "pygments_lexer": "ipython3",
   "version": "3.7.3"
  }
 },
 "nbformat": 4,
 "nbformat_minor": 1
}
