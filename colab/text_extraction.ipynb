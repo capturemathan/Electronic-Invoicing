{
 "cells": [
  {
   "cell_type": "code",
   "execution_count": null,
   "metadata": {
    "colab": {
     "base_uri": "https://localhost:8080/",
     "height": 185
    },
    "colab_type": "code",
    "id": "6Ad4y6Z49w8P",
    "outputId": "9c117194-532f-4eb9-963f-5505f4194fe0"
   },
   "outputs": [
    {
     "name": "stdout",
     "output_type": "stream",
     "text": [
      "Reading package lists... Done\n",
      "Building dependency tree       \n",
      "Reading state information... Done\n",
      "tesseract-ocr is already the newest version (4.00~git2288-10f4998a-2).\n",
      "The following package was automatically installed and is no longer required:\n",
      "  libnvidia-common-440\n",
      "Use 'sudo apt autoremove' to remove it.\n",
      "0 upgraded, 0 newly installed, 0 to remove and 35 not upgraded.\n",
      "Requirement already satisfied: pytesseract in /usr/local/lib/python3.6/dist-packages (0.3.4)\n",
      "Requirement already satisfied: Pillow in /usr/local/lib/python3.6/dist-packages (from pytesseract) (7.0.0)\n"
     ]
    }
   ],
   "source": [
    "!sudo apt install tesseract-ocr\n",
    "!pip install pytesseract"
   ]
  },
  {
   "cell_type": "code",
   "execution_count": null,
   "metadata": {
    "colab": {},
    "colab_type": "code",
    "id": "8th7FJUs-GG3"
   },
   "outputs": [],
   "source": [
    "import pytesseract\n",
    "from PIL import Image,ImageDraw,ImageFont"
   ]
  },
  {
   "cell_type": "code",
   "execution_count": null,
   "metadata": {
    "colab": {
     "base_uri": "https://localhost:8080/",
     "height": 67
    },
    "colab_type": "code",
    "id": "qngm1IBZm9HQ",
    "outputId": "ba419616-4317-4a12-efa0-276900144c7b"
   },
   "outputs": [
    {
     "name": "stdout",
     "output_type": "stream",
     "text": [
      "Requirement already satisfied: textblob in /usr/local/lib/python3.6/dist-packages (0.15.3)\n",
      "Requirement already satisfied: nltk>=3.1 in /usr/local/lib/python3.6/dist-packages (from textblob) (3.2.5)\n",
      "Requirement already satisfied: six in /usr/local/lib/python3.6/dist-packages (from nltk>=3.1->textblob) (1.15.0)\n"
     ]
    }
   ],
   "source": [
    "!pip install textblob\n",
    "from textblob import TextBlob"
   ]
  },
  {
   "cell_type": "code",
   "execution_count": null,
   "metadata": {
    "colab": {},
    "colab_type": "code",
    "id": "PP70vcdN-XJg"
   },
   "outputs": [],
   "source": [
    "def extractText(imgpath):\n",
    "  \"\"\"\n",
    "  The function to extract raw text from image using tesseract \n",
    "  Parameters: \n",
    "            imgpath(String): The path of image in which text to be extracted. \n",
    "          \n",
    "        Returns: \n",
    "            String: the raw text extracted from image. \n",
    "  \"\"\"\n",
    "  extractedInformation = pytesseract.image_to_string(Image.open(imgpath))\n",
    "  #print(extractedInformation)\n",
    "  return extractedInformation"
   ]
  },
  {
   "cell_type": "code",
   "execution_count": null,
   "metadata": {
    "colab": {
     "base_uri": "https://localhost:8080/",
     "height": 50
    },
    "colab_type": "code",
    "id": "6-zwfQM4cBxk",
    "outputId": "6b18d87b-751d-4c4b-d70b-bb2f5dd9a218"
   },
   "outputs": [
    {
     "name": "stdout",
     "output_type": "stream",
     "text": [
      "[nltk_data] Downloading package words to /root/nltk_data...\n",
      "[nltk_data]   Package words is already up-to-date!\n"
     ]
    }
   ],
   "source": [
    "import pandas as pd\n",
    "import nltk\n",
    "nltk.download('words')\n",
    "from nltk.corpus import words"
   ]
  },
  {
   "cell_type": "code",
   "execution_count": null,
   "metadata": {
    "colab": {},
    "colab_type": "code",
    "id": "mqkYVonIvQMZ"
   },
   "outputs": [],
   "source": [
    "\n",
    "def writeExcel(string,destpath):\n",
    "  \"\"\"\n",
    "  The function to write text to file \n",
    "  Parameters: \n",
    "            imgpath(String): The path of image in which text to be extracted. \n",
    "            destpath : The path where text to be written  \n",
    "  \"\"\"\n",
    "  dataframe = pd.DataFrame({'header':string})\n",
    "  print(dataframe)\n",
    "  df_excel = pd.read_excel(destpath)\n",
    "  result = pd.concat([dataframe,df_excel], ignore_index=True)\n",
    "  result.to_excel(destpath, index=True)"
   ]
  },
  {
   "cell_type": "code",
   "execution_count": null,
   "metadata": {
    "colab": {},
    "colab_type": "code",
    "id": "kS9JK1VYYx4J"
   },
   "outputs": [],
   "source": [
    "def writeImage(string,desttext):\n",
    "  img = Image.new('RGB', (1000, 500), color = (73, 109, 137)) \n",
    "  d = ImageDraw.Draw(img)\n",
    "  d.text((10,10), string, fill=(255,255,0))\n",
    "  img.show()  \n",
    "  img.save(desttext)\n"
   ]
  },
  {
   "cell_type": "code",
   "execution_count": null,
   "metadata": {
    "colab": {},
    "colab_type": "code",
    "id": "9JPOZyjRoePJ"
   },
   "outputs": [],
   "source": [
    "def checkWords(string):\n",
    "  return string in words.words() or len(string)>5"
   ]
  },
  {
   "cell_type": "code",
   "execution_count": null,
   "metadata": {
    "colab": {},
    "colab_type": "code",
    "id": "eH-3EmhjU0VI"
   },
   "outputs": [],
   "source": [
    "def formatText(imgpath,desttext,destpath):\n",
    "  \"\"\"\n",
    "  The function to remove unwanted text\n",
    "  Parameters: \n",
    "            imgpath(String): The path of image in which text to be cleaned. \n",
    "            destpath: The destination path where the text to be written.\n",
    "        Returns: \n",
    "            String: the raw text extracted from image. \n",
    "  \"\"\"\n",
    "  text = extractText(imgpath)\n",
    "  s= text.split(\"\\n\")\n",
    "  string = ''\n",
    "  l = len(s)\n",
    "  i = 0\n",
    "  string = ''\n",
    "  while i<len(s):\n",
    "    if len(s[i])<=1  or s[i].isspace():\n",
    "      s.pop(i)\n",
    "    else:\n",
    "      if checkWords(s[i]):\n",
    "        string+=s[i].encode('latin-1', 'ignore').decode()+'\\n'\n",
    "        i+=1\n",
    "      else:\n",
    "        s.pop(i)\n",
    "\n",
    "  writeExcel(s,destpath)\n",
    "  writeImage(string,desttext)\n",
    "  return s"
   ]
  },
  {
   "cell_type": "code",
   "execution_count": null,
   "metadata": {
    "colab": {
     "base_uri": "https://localhost:8080/",
     "height": 490
    },
    "colab_type": "code",
    "id": "MkGUoCic9Vpy",
    "outputId": "a5416a41-0b6f-41f8-b9c1-2881795c6735"
   },
   "outputs": [
    {
     "name": "stdout",
     "output_type": "stream",
     "text": [
      "                                               header\n",
      "0                                  VirtualCompanylind\n",
      "1                       VirtualAddr, 255.0.0.0, India\n",
      "2                                         Page 1 of 3\n",
      "3                     Telephone: Email: abc@gmail.com\n",
      "4        GSTN No: 17ABCDEF123GXYZ_ PAN No: AAABB9990A\n",
      "5                          CIN: A10002AA1710ALB001995\n",
      "6                                         Tax Invoice\n",
      "7                              Original for Recipient\n",
      "8   Bill To - 1700235 Ship To: - 1700234 Transport...\n",
      "9   Customer Name: RECIEVER COMPANYIND Customer Na...\n",
      "10  RECIEVER COMPANYIND , RECIEVER COMPANYIND , LR...\n",
      "11                          M000, INDIA 111000, INDIA\n",
      "12                                         E Way Bill\n",
      "13          Freight Terms. Costs, insurance & freight\n",
      "14                                     Delivery Terms\n",
      "15        State: Haryana, India State: Haryana, India\n",
      "16  State code: 06 State code: 06 Payment Terms Pa...\n",
      "17                               Telephone: Telephone\n",
      "18  PAN No.: ABBCC9098G PAN No.: ABBCC9098G DA Number\n",
      "19  GSTN No: -O7AABBC8888G1AZ1 GSTN No:-O7AABBC888...\n",
      "20                                    Place of Supply\n",
      "21                                 State Name Haryana\n",
      "22                                        State Code:\n",
      "23                                           ee ee ee\n",
      "24                                                 aa\n",
      "['VirtualCompanylind', 'VirtualAddr, 255.0.0.0, India', 'Page 1 of 3', 'Telephone: Email: abc@gmail.com', 'GSTN No: 17ABCDEF123GXYZ_ PAN No: AAABB9990A', 'CIN: A10002AA1710ALB001995', 'Tax Invoice', 'Original for Recipient', 'Bill To - 1700235 Ship To: - 1700234 Transporter Name: SAFEXPRESS PRIVATE', 'Customer Name: RECIEVER COMPANYIND Customer Name: RECIEVER COMPANYIND LR Number 1234', 'RECIEVER COMPANYIND , RECIEVER COMPANYIND , LR Date 4/7/2017', 'M000, INDIA 111000, INDIA', 'E Way Bill', 'Freight Terms. Costs, insurance & freight', 'Delivery Terms', 'State: Haryana, India State: Haryana, India', 'State code: 06 State code: 06 Payment Terms Payment within 60 Days', 'Telephone: Telephone', 'PAN No.: ABBCC9098G PAN No.: ABBCC9098G DA Number', 'GSTN No: -O7AABBC8888G1AZ1 GSTN No:-O7AABBC8888G1AZ1 DA Date 1/7/2017', 'Place of Supply', 'State Name Haryana', 'State Code:', 'ee ee ee', 'aa']\n"
     ]
    }
   ],
   "source": [
    "#formatted = formatText(\"output/dataset1/cropped1.jpg\",\"output/dataset1/desttext1.png\",\"output/dataset1/excel1.xlsx\")\n",
    "#print(formatted)"
   ]
  },
  {
   "cell_type": "markdown",
   "metadata": {
    "colab_type": "text",
    "id": "UCHD1CMoCGwT"
   },
   "source": [
    "# **RAW EXTRACTED DATA**"
   ]
  }
 ],
 "metadata": {
  "colab": {
   "collapsed_sections": [],
   "name": "text_extraction",
   "provenance": [],
   "toc_visible": true
  },
  "kernelspec": {
   "display_name": "Python 3",
   "language": "python",
   "name": "python3"
  },
  "language_info": {
   "codemirror_mode": {
    "name": "ipython",
    "version": 3
   },
   "file_extension": ".py",
   "mimetype": "text/x-python",
   "name": "python",
   "nbconvert_exporter": "python",
   "pygments_lexer": "ipython3",
   "version": "3.7.3"
  }
 },
 "nbformat": 4,
 "nbformat_minor": 1
}
