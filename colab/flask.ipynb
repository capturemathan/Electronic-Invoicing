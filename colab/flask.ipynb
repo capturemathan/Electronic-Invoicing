{
 "cells": [
  {
   "cell_type": "markdown",
   "metadata": {
    "colab_type": "text",
    "id": "g6Sb0M0dhaP_"
   },
   "source": []
  },
  {
   "cell_type": "markdown",
   "metadata": {
    "colab_type": "text",
    "id": "QOdAc2og94E9"
   },
   "source": [
    "# **DEPENDENCIES FOR COLAB AND UI**"
   ]
  },
  {
   "cell_type": "code",
   "execution_count": null,
   "metadata": {
    "colab": {
     "base_uri": "https://localhost:8080/",
     "height": 255
    },
    "colab_type": "code",
    "id": "TqxFEGDc-Wj0",
    "outputId": "f9a65d5d-ca67-4d49-b95c-439b65990e04"
   },
   "outputs": [
    {
     "name": "stdout",
     "output_type": "stream",
     "text": [
      "Requirement already satisfied: import_ipynb in /usr/local/lib/python3.6/dist-packages (0.1.3)\n",
      "Requirement already satisfied: flask-ngrok in /usr/local/lib/python3.6/dist-packages (0.0.25)\n",
      "Requirement already satisfied: requests in /usr/local/lib/python3.6/dist-packages (from flask-ngrok) (2.23.0)\n",
      "Requirement already satisfied: Flask>=0.8 in /usr/local/lib/python3.6/dist-packages (from flask-ngrok) (1.1.2)\n",
      "Requirement already satisfied: certifi>=2017.4.17 in /usr/local/lib/python3.6/dist-packages (from requests->flask-ngrok) (2020.6.20)\n",
      "Requirement already satisfied: urllib3!=1.25.0,!=1.25.1,<1.26,>=1.21.1 in /usr/local/lib/python3.6/dist-packages (from requests->flask-ngrok) (1.24.3)\n",
      "Requirement already satisfied: chardet<4,>=3.0.2 in /usr/local/lib/python3.6/dist-packages (from requests->flask-ngrok) (3.0.4)\n",
      "Requirement already satisfied: idna<3,>=2.5 in /usr/local/lib/python3.6/dist-packages (from requests->flask-ngrok) (2.10)\n",
      "Requirement already satisfied: Jinja2>=2.10.1 in /usr/local/lib/python3.6/dist-packages (from Flask>=0.8->flask-ngrok) (2.11.2)\n",
      "Requirement already satisfied: click>=5.1 in /usr/local/lib/python3.6/dist-packages (from Flask>=0.8->flask-ngrok) (7.1.2)\n",
      "Requirement already satisfied: itsdangerous>=0.24 in /usr/local/lib/python3.6/dist-packages (from Flask>=0.8->flask-ngrok) (1.1.0)\n",
      "Requirement already satisfied: Werkzeug>=0.15 in /usr/local/lib/python3.6/dist-packages (from Flask>=0.8->flask-ngrok) (1.0.1)\n",
      "Requirement already satisfied: MarkupSafe>=0.23 in /usr/local/lib/python3.6/dist-packages (from Jinja2>=2.10.1->Flask>=0.8->flask-ngrok) (1.1.1)\n"
     ]
    }
   ],
   "source": [
    "!pip install import_ipynb\n",
    "!pip install flask-ngrok"
   ]
  },
  {
   "cell_type": "code",
   "execution_count": null,
   "metadata": {
    "colab": {},
    "colab_type": "code",
    "id": "dzxRR7FJglLY"
   },
   "outputs": [],
   "source": [
    "from flask_ngrok import run_with_ngrok\n",
    "from flask import *\n",
    "import import_ipynb"
   ]
  },
  {
   "cell_type": "markdown",
   "metadata": {
    "colab_type": "text",
    "id": "e7uD6rK09cE7"
   },
   "source": [
    "# **PDF To Image**"
   ]
  },
  {
   "cell_type": "code",
   "execution_count": null,
   "metadata": {
    "colab": {
     "base_uri": "https://localhost:8080/",
     "height": 84
    },
    "colab_type": "code",
    "id": "CsGcvT7VCapE",
    "outputId": "79cc77fc-4e99-400f-9563-9e5bff84e9cf"
   },
   "outputs": [
    {
     "name": "stdout",
     "output_type": "stream",
     "text": [
      "/content/drive/My Drive/Colab Notebooks\n",
      "digital_processing.ipynb  pdfconvert.ipynb\t   text_extraction.ipynb\n",
      "flask.ipynb\t\t  table_extraction1.ipynb\n",
      "mlassign.ipynb\t\t  tabletest.ipynb\n"
     ]
    }
   ],
   "source": [
    "#move to current directory"
   ]
  },
  {
   "cell_type": "code",
   "execution_count": null,
   "metadata": {
    "colab": {
     "base_uri": "https://localhost:8080/",
     "height": 35
    },
    "colab_type": "code",
    "id": "6nYR0SYYDwfJ",
    "outputId": "a1abb595-18d6-4ca6-98bf-b6f333b27133"
   },
   "outputs": [
    {
     "data": {
      "application/vnd.google.colaboratory.intrinsic+json": {
       "type": "string"
      },
      "text/plain": [
       "'\\npdfconvert\\n  This module is for converting pdf to image page by page\\n  For more info, refer to pdfconvert.py\\n'"
      ]
     },
     "execution_count": 19,
     "metadata": {
      "tags": []
     },
     "output_type": "execute_result"
    }
   ],
   "source": [
    "import pdfconvert\n",
    "\"\"\"\n",
    "pdfconvert\n",
    "  This module is for converting pdf to image page by page\n",
    "  For more info, refer to pdfconvert.py\n",
    "\"\"\""
   ]
  },
  {
   "cell_type": "code",
   "execution_count": null,
   "metadata": {
    "colab": {
     "base_uri": "https://localhost:8080/",
     "height": 34
    },
    "colab_type": "code",
    "id": "z22qjo1G262R",
    "outputId": "0c054a34-7087-4ebb-b48f-ffe8f756fb72"
   },
   "outputs": [
    {
     "name": "stdout",
     "output_type": "stream",
     "text": [
      "Requirement already satisfied: PyPDF2 in /usr/local/lib/python3.6/dist-packages (1.26.0)\n"
     ]
    }
   ],
   "source": [
    "!pip install PyPDF2\n",
    "import PyPDF2\n"
   ]
  },
  {
   "cell_type": "code",
   "execution_count": null,
   "metadata": {
    "colab": {},
    "colab_type": "code",
    "id": "qvFCCLTv4oE_"
   },
   "outputs": [],
   "source": [
    "def pdfsection(filepath):\n",
    "  \"\"\"\n",
    "  This module is used to convet pd to image\n",
    "  Parameters:  \n",
    "            String : Path to the input pdf\n",
    "\"\"\"\n",
    "  pdfFileObj = open(filepath,\"rb\")\n",
    "  pdfReader = PyPDF2.PdfFileReader(pdfFileObj)\n",
    "  numPages = pdfReader.numPages \n",
    "  print (numPages)\n",
    "  imgpath = \"output/dataset1/\"\n",
    "  pdfconvert.convert2pdf(filepath,imgpath)\n",
    "  return numPages"
   ]
  },
  {
   "cell_type": "markdown",
   "metadata": {
    "colab_type": "text",
    "id": "XSAivSGG-JXY"
   },
   "source": [
    "# **TABLE EXTRACTION**"
   ]
  },
  {
   "cell_type": "code",
   "execution_count": null,
   "metadata": {
    "colab": {
     "base_uri": "https://localhost:8080/",
     "height": 35
    },
    "colab_type": "code",
    "id": "SNLHWjLlKGvd",
    "outputId": "7c0472ae-cc3a-4dc8-a3f5-3baa9c9fe85f"
   },
   "outputs": [
    {
     "data": {
      "application/vnd.google.colaboratory.intrinsic+json": {
       "type": "string"
      },
      "text/plain": [
       "'\\ntable_extraction1\\n  This module is for extracting table.\\n  For more info, refer to table_extraction1.py\\n'"
      ]
     },
     "execution_count": 22,
     "metadata": {
      "tags": []
     },
     "output_type": "execute_result"
    }
   ],
   "source": [
    "import table_extraction1\n",
    "import cv2\n",
    "\"\"\"\n",
    "table_extraction1\n",
    "  This module is for extracting table.\n",
    "  For more info, refer to table_extraction1.py\n",
    "\"\"\"\n"
   ]
  },
  {
   "cell_type": "code",
   "execution_count": null,
   "metadata": {
    "colab": {},
    "colab_type": "code",
    "id": "1KlGq6un49bS"
   },
   "outputs": [],
   "source": [
    "def tablesection(numPages):\n",
    "  \"\"\"\n",
    "  This module is for extracting table from input image.\n",
    "  Parameters:  \n",
    "            int : The number of pages in invoice.\n",
    "\"\"\"\n",
    "  for i in range(1,numPages+1):\n",
    "    srcpath = \"output/dataset1/\"+str(i)+'.jpg'#img from sourcepath to excel in excelpath\n",
    "    excelpath = \"output/dataset1/excel\"+str(i)+\".xlsx\"\n",
    "    croppath = \"output/dataset1/cropped\"+str(i)+\".jpg\"\n",
    "    destpath = \"output/dataset1/desttable\"+str(i)+\".png\"  \n",
    "    cropped,data = table_extraction1.textExtraction(srcpath,excelpath,destpath)\n",
    "    cv2.imwrite(croppath,cropped)\n",
    "  "
   ]
  },
  {
   "cell_type": "markdown",
   "metadata": {
    "colab_type": "text",
    "id": "TRYWqb1V9XV1"
   },
   "source": [
    "# **DIGITAL IMAGE PROCESSING**"
   ]
  },
  {
   "cell_type": "code",
   "execution_count": null,
   "metadata": {
    "colab": {
     "base_uri": "https://localhost:8080/",
     "height": 35
    },
    "colab_type": "code",
    "id": "avQxLRqDv2g9",
    "outputId": "21a10702-488c-4f32-fdf1-b93df64c8017"
   },
   "outputs": [
    {
     "data": {
      "application/vnd.google.colaboratory.intrinsic+json": {
       "type": "string"
      },
      "text/plain": [
       "'\\ndigital_processing\\n  This module is for applying threshold and processing image.\\n  For more info, refer to digital_processing.py\\n'"
      ]
     },
     "execution_count": 24,
     "metadata": {
      "tags": []
     },
     "output_type": "execute_result"
    }
   ],
   "source": [
    "import digital_processing\n",
    "\"\"\"\n",
    "digital_processing\n",
    "  This module is for applying threshold and processing image.\n",
    "  For more info, refer to digital_processing.py\n",
    "\"\"\""
   ]
  },
  {
   "cell_type": "markdown",
   "metadata": {
    "colab_type": "text",
    "id": "U6E7kUr0-GH7"
   },
   "source": [
    "# **TEXT EXTRACTION**"
   ]
  },
  {
   "cell_type": "code",
   "execution_count": null,
   "metadata": {
    "colab": {
     "base_uri": "https://localhost:8080/",
     "height": 35
    },
    "colab_type": "code",
    "id": "wLWfXZ8P4AiY",
    "outputId": "e3ec8008-2304-4ad1-b4b8-a00688807848"
   },
   "outputs": [
    {
     "data": {
      "application/vnd.google.colaboratory.intrinsic+json": {
       "type": "string"
      },
      "text/plain": [
       "'\\ntext_extraction\\n  This module is for extracting text from  cropped image.\\n  For more info, refer to text_extraction.py\\n'"
      ]
     },
     "execution_count": 25,
     "metadata": {
      "tags": []
     },
     "output_type": "execute_result"
    }
   ],
   "source": [
    "import text_extraction\n",
    "\"\"\"\n",
    "text_extraction\n",
    "  This module is for extracting text from  cropped image.\n",
    "  For more info, refer to text_extraction.py\n",
    "\"\"\""
   ]
  },
  {
   "cell_type": "code",
   "execution_count": null,
   "metadata": {
    "colab": {},
    "colab_type": "code",
    "id": "MqUohiaQ4DRU"
   },
   "outputs": [],
   "source": [
    "\n",
    "def textsection(numPages):\n",
    "  \"\"\"\n",
    "  This module is for extracting text from  cropped image.\n",
    "  Parameters:  \n",
    "            int : The number of pages in invoice.\n",
    "\"\"\"\n",
    "  for i in range(1,numPages+1):\n",
    "    imgpath = \"output/dataset1/cropped\"+str(i)+\".jpg\"\n",
    "    digital_processing.threshAndConvert(imgpath)\n",
    "    destpath = \"output/dataset1/excel\"+str(i)+\".png\"\n",
    "    textimg = \"output/dataset1/excel\"+str(i)+\".png\"\n",
    "    #print(i)\n",
    "    header = text_extraction.formatText(imgpath,textimg,destpath)\n",
    "    print(header)\n",
    "  \n",
    "\n",
    "  "
   ]
  },
  {
   "cell_type": "markdown",
   "metadata": {
    "colab_type": "text",
    "id": "etM58v-l_zXz"
   },
   "source": [
    "# **DOWNLOAD INVOICE ASSETS**"
   ]
  },
  {
   "cell_type": "code",
   "execution_count": null,
   "metadata": {
    "colab": {},
    "colab_type": "code",
    "id": "5R-J2jv4_uMo"
   },
   "outputs": [],
   "source": [
    "import shutil\n",
    "import os"
   ]
  },
  {
   "cell_type": "code",
   "execution_count": null,
   "metadata": {
    "colab": {},
    "colab_type": "code",
    "id": "t1C7Dyu7-4pQ"
   },
   "outputs": [],
   "source": [
    "def downloadAll(dirpath,output):\n",
    "  shutil.make_archive(output, 'zip', dirpath)\n",
    "  return output\n",
    "\n",
    "#downloadAll(\"/content/drive/My Drive/hack_space/output/dataset1\",\"/content/drive/My Drive/hack_space/output/dt1\")"
   ]
  },
  {
   "cell_type": "markdown",
   "metadata": {
    "colab_type": "text",
    "id": "hryu9Nv56Ska"
   },
   "source": [
    "# **START E-INVOICE WEB-SERVER**"
   ]
  },
  {
   "cell_type": "code",
   "execution_count": null,
   "metadata": {
    "colab": {},
    "colab_type": "code",
    "id": "5GwRHPLDphZG"
   },
   "outputs": [],
   "source": [
    "app = Flask(__name__,template_folder=\"templates\")\n",
    "app.secret_key = os.urandom(24)\n",
    "app._static_folder = \"static\"\n",
    "run_with_ngrok(app)   #starts ngrok when the app is run\n",
    "numPages = 0\n",
    "\n",
    "@app.route('/', defaults={'convertbutton': \"true\",'downloadbutton': \"false\"})\n",
    "@app.route(\"/<convertbutton>/<downloadbutton>\")\n",
    "def home(convertbutton,downloadbutton):\n",
    "    return render_template(\"index.html\",convertbutton=convertbutton,downloadbutton=downloadbutton)\n",
    "\n",
    "@app.route(\"/upload\", methods = ['POST'])  \n",
    "def upload():\n",
    "  print(\"entered\")\n",
    "  if request.method == 'POST':\n",
    "    print(\"it is upload post\")\n",
    "    if 'file' not in request.files:\n",
    "      print(\"file nahi hey\")\n",
    "    else:\n",
    "      print(\"iruku\")\n",
    "      file = request.files['file']\n",
    "      print(\"file is there! \"+file.filename)\n",
    "      filepath = \"output/dataset1/invoice.pdf\"\n",
    "      file.save(filepath)\n",
    "      print(\"file saved \"+filepath)\n",
    "      numPages = pdfsection(filepath)\n",
    "      tablesection(numPages)\n",
    "      print(\"upload ends\")\n",
    "    return redirect(url_for(\"home\",convertbutton=\"false\",downloadbutton=\"false\"))  \n",
    "\n",
    "@app.route('/download/<path:site>/<convertbutton>/<downloadbutton>')\n",
    "def download(site,convertbutton,downloadbutton):\n",
    "  print(site)\n",
    "  url = '/'+site\n",
    "  print(url)\n",
    "  return render_template(\"index.html\",site=url,convertbutton=convertbutton,downloadbutton=downloadbutton)\n",
    "\n",
    "\n",
    "@app.route('/convert', methods = ['POST'])  \n",
    "def convert():  \n",
    "    if request.method == 'POST':\n",
    "      \n",
    "      textsection(numPages)\n",
    "      site = downloadAll(\"output/dataset1\",\"output/dt1\")\n",
    "      site = site[1:]\n",
    "      print('Successfully Converted')\n",
    "      return redirect(url_for(\"download\",site=site,convertbutton=\"true\",downloadbutton=\"true\"))\n"
   ]
  },
  {
   "cell_type": "code",
   "execution_count": null,
   "metadata": {
    "colab": {
     "base_uri": "https://localhost:8080/",
     "height": 218
    },
    "colab_type": "code",
    "id": "3DrZwNhNrifD",
    "outputId": "a116a85e-391d-4876-bbde-0dba946ec860"
   },
   "outputs": [
    {
     "name": "stdout",
     "output_type": "stream",
     "text": [
      " * Serving Flask app \"__main__\" (lazy loading)\n",
      " * Environment: production\n",
      "\u001b[31m   WARNING: This is a development server. Do not use it in a production deployment.\u001b[0m\n",
      "\u001b[2m   Use a production WSGI server instead.\u001b[0m\n",
      " * Debug mode: off\n"
     ]
    },
    {
     "name": "stderr",
     "output_type": "stream",
     "text": [
      " * Running on http://127.0.0.1:5000/ (Press CTRL+C to quit)\n"
     ]
    },
    {
     "name": "stdout",
     "output_type": "stream",
     "text": [
      " * Running on http://4f47374434e4.ngrok.io\n",
      " * Traffic stats available on http://127.0.0.1:4040\n"
     ]
    },
    {
     "name": "stderr",
     "output_type": "stream",
     "text": [
      "127.0.0.1 - - [03/Aug/2020 14:47:10] \"\u001b[37mGET / HTTP/1.1\u001b[0m\" 200 -\n",
      "127.0.0.1 - - [03/Aug/2020 14:47:11] \"\u001b[37mGET /static/index.css HTTP/1.1\u001b[0m\" 200 -\n",
      "127.0.0.1 - - [03/Aug/2020 14:47:11] \"\u001b[37mGET /static/invoice.png HTTP/1.1\u001b[0m\" 200 -\n",
      "127.0.0.1 - - [03/Aug/2020 14:47:13] \"\u001b[33mGET /favicon.ico HTTP/1.1\u001b[0m\" 404 -\n"
     ]
    }
   ],
   "source": [
    "app.run()"
   ]
  },
  {
   "cell_type": "markdown",
   "metadata": {
    "colab_type": "text",
    "id": "ewI-2JgQFPQe"
   },
   "source": [
    "# **RUN PYTHON**"
   ]
  }
 ],
 "metadata": {
  "colab": {
   "collapsed_sections": [],
   "name": "flask.ipynb",
   "provenance": [],
   "toc_visible": true
  },
  "kernelspec": {
   "display_name": "Python 3",
   "language": "python",
   "name": "python3"
  },
  "language_info": {
   "codemirror_mode": {
    "name": "ipython",
    "version": 3
   },
   "file_extension": ".py",
   "mimetype": "text/x-python",
   "name": "python",
   "nbconvert_exporter": "python",
   "pygments_lexer": "ipython3",
   "version": "3.7.3"
  }
 },
 "nbformat": 4,
 "nbformat_minor": 1
}
